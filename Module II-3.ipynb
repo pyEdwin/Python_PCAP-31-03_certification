{
 "cells": [
  {
   "cell_type": "code",
   "execution_count": 1,
   "id": "45a5ab8a",
   "metadata": {},
   "outputs": [
    {
     "name": "stdout",
     "output_type": "stream",
     "text": [
      "Hello world!\n"
     ]
    }
   ],
   "source": [
    "#capitalize() : if the first character inside the string is a letter, it will be converted to upper-case.\n",
    "\n",
    "print(\"hello World!\".capitalize())"
   ]
  },
  {
   "cell_type": "code",
   "execution_count": 4,
   "id": "51473760",
   "metadata": {},
   "outputs": [
    {
     "name": "stdout",
     "output_type": "stream",
     "text": [
      "Hello World!\n"
     ]
    }
   ],
   "source": [
    "# center() : add some spaces before and after the string.\n",
    "\n",
    "print(\"Hello World!\".center(12))"
   ]
  },
  {
   "cell_type": "code",
   "execution_count": 5,
   "id": "0ca11486",
   "metadata": {},
   "outputs": [
    {
     "name": "stdout",
     "output_type": "stream",
     "text": [
      "True\n"
     ]
    }
   ],
   "source": [
    "#endswith() : checks if the given string ends with the specified argument and returns True or False.\n",
    "\n",
    "print(\"Hello World!\".endswith(\"!\"))"
   ]
  },
  {
   "cell_type": "code",
   "execution_count": 2,
   "id": "d52db18f",
   "metadata": {},
   "outputs": [
    {
     "data": {
      "text/plain": [
       "'I am not and you are not..'"
      ]
     },
     "execution_count": 2,
     "metadata": {},
     "output_type": "execute_result"
    }
   ],
   "source": [
    "# replace() : returns a copy of the original string in which all occurrences of the first argument have been replaced by the second argument.\n",
    "string = \"Hello\"\n",
    "string.replace(\"Hello\" , \"Hello World!\") # Hello World!\n",
    "\n",
    "string = \"I am here and you are here..\"\n",
    "string.replace(\"here\" , \"not\" , 2)"
   ]
  },
  {
   "cell_type": "code",
   "execution_count": 3,
   "id": "b472f8a9",
   "metadata": {},
   "outputs": [
    {
     "data": {
      "text/plain": [
       "20"
      ]
     },
     "execution_count": 3,
     "metadata": {},
     "output_type": "execute_result"
    }
   ],
   "source": [
    "# rfind() : finds the last occurrence of the specified value. rfind(value, start , end)\n",
    "\n",
    "\"Hello, I am here. I am not going home.\".rfind(\"am\") "
   ]
  },
  {
   "cell_type": "code",
   "execution_count": 6,
   "id": "24a2de6d",
   "metadata": {},
   "outputs": [
    {
     "data": {
      "text/plain": [
       "'Hello World'"
      ]
     },
     "execution_count": 6,
     "metadata": {},
     "output_type": "execute_result"
    }
   ],
   "source": [
    "# rstrip() :Remove any white spaces at the end of the string\n",
    "\"     Hello   world     \".rstrip() # '     Hello   world'\n",
    "\"Hello World!\".rstrip(\"!\")"
   ]
  },
  {
   "cell_type": "code",
   "execution_count": 10,
   "id": "66e7ffbf",
   "metadata": {},
   "outputs": [
    {
     "data": {
      "text/plain": [
       "['hello', 'world!']"
      ]
     },
     "execution_count": 10,
     "metadata": {},
     "output_type": "execute_result"
    }
   ],
   "source": [
    "#  split() : splits the string and builds a list of all detected substrings.\n",
    "\n",
    "\"hello world!\".split()"
   ]
  },
  {
   "cell_type": "code",
   "execution_count": 11,
   "id": "55bb3cec",
   "metadata": {},
   "outputs": [
    {
     "data": {
      "text/plain": [
       "True"
      ]
     },
     "execution_count": 11,
     "metadata": {},
     "output_type": "execute_result"
    }
   ],
   "source": [
    "# startswith() :  checks if a given string starts with the specified substring\n",
    "\"Hello world!\".startswith(\"H\")"
   ]
  },
  {
   "cell_type": "code",
   "execution_count": 13,
   "id": "bc4f4560",
   "metadata": {},
   "outputs": [
    {
     "data": {
      "text/plain": [
       "'Hello  World!'"
      ]
     },
     "execution_count": 13,
     "metadata": {},
     "output_type": "execute_result"
    }
   ],
   "source": [
    "# strip() : removes  leading and trailing whitespaces.\n",
    "\n",
    "\"   Hello  World!   \".strip()"
   ]
  },
  {
   "cell_type": "code",
   "execution_count": 15,
   "id": "2f88a09d",
   "metadata": {},
   "outputs": [
    {
     "data": {
      "text/plain": [
       "'hELLO wORLD!'"
      ]
     },
     "execution_count": 15,
     "metadata": {},
     "output_type": "execute_result"
    }
   ],
   "source": [
    "#swapcase() : returns  a new string by swapping the case of all letters within the source string: lower-case characters become upper-case, and vice versa.\n",
    "\"Hello World!\".swapcase()"
   ]
  },
  {
   "cell_type": "code",
   "execution_count": 16,
   "id": "816e3216",
   "metadata": {},
   "outputs": [
    {
     "data": {
      "text/plain": [
       "' Hello World!'"
      ]
     },
     "execution_count": 16,
     "metadata": {},
     "output_type": "execute_result"
    }
   ],
   "source": [
    "#title() : changes every word's first letter to upper-case, turning all other ones to lower-case\n",
    "\n",
    "\" Hello WorLd!\".title()"
   ]
  },
  {
   "cell_type": "code",
   "execution_count": 19,
   "id": "d8d250d0",
   "metadata": {},
   "outputs": [
    {
     "data": {
      "text/plain": [
       "' HELLO'"
      ]
     },
     "execution_count": 19,
     "metadata": {},
     "output_type": "execute_result"
    }
   ],
   "source": [
    " # upper() :  makes a copy of the source string, replaces all lower-case letters with their upper-case counterparts.\n",
    " \" Hello\".upper()   "
   ]
  },
  {
   "cell_type": "markdown",
   "id": "7efc6ad1",
   "metadata": {},
   "source": [
    "Exercise 1\n",
    "\n",
    "What is the expected output of the following code?"
   ]
  },
  {
   "cell_type": "code",
   "execution_count": 22,
   "id": "46a0af12",
   "metadata": {},
   "outputs": [
    {
     "name": "stdout",
     "output_type": "stream",
     "text": [
      "ABC1 2 3 xyx"
     ]
    }
   ],
   "source": [
    "for ch in \"abc123XYX\":\n",
    "    if ch.isupper():\n",
    "        print(ch.lower(), end='')\n",
    "    elif ch.islower():\n",
    "        print(ch.upper(), end='')\n",
    "    else:\n",
    "        print(ch, end=\" \")"
   ]
  },
  {
   "cell_type": "markdown",
   "id": "190d2c41",
   "metadata": {},
   "source": [
    "Exercise 2\n",
    "\n",
    "What is the expected output of the following code?"
   ]
  },
  {
   "cell_type": "code",
   "execution_count": 23,
   "id": "c2ecd237",
   "metadata": {},
   "outputs": [
    {
     "name": "stdout",
     "output_type": "stream",
     "text": [
      "of\n"
     ]
    }
   ],
   "source": [
    "s1 = 'Where are the snows of yesteryear?'\n",
    "s2 = s1.split()\n",
    "print(s2[-2])"
   ]
  },
  {
   "cell_type": "markdown",
   "id": "990458ce",
   "metadata": {},
   "source": [
    "Exercise 3\n",
    "\n",
    "What is the expected output of the following code?"
   ]
  },
  {
   "cell_type": "code",
   "execution_count": 24,
   "id": "636b38f0",
   "metadata": {},
   "outputs": [
    {
     "name": "stdout",
     "output_type": "stream",
     "text": [
      "Where*are*the*snows?\n"
     ]
    }
   ],
   "source": [
    "the_list = ['Where', 'are', 'the', 'snows?']\n",
    "s = '*'.join(the_list)\n",
    "print(s)"
   ]
  },
  {
   "cell_type": "markdown",
   "id": "48858d63",
   "metadata": {},
   "source": [
    "Exercise 4\n",
    "\n",
    "What is the expected output of the following code?"
   ]
  },
  {
   "cell_type": "code",
   "execution_count": 25,
   "id": "edb5be50",
   "metadata": {},
   "outputs": [
    {
     "name": "stdout",
     "output_type": "stream",
     "text": [
      "It is either hard or possible\n"
     ]
    }
   ],
   "source": [
    "s = 'It is either easy or impossible'\n",
    "s = s.replace('easy', 'hard').replace('im', '')\n",
    "print(s)"
   ]
  },
  {
   "cell_type": "markdown",
   "id": "9a7525f7",
   "metadata": {},
   "source": [
    "LAB:\n",
    "      Objectives:\n",
    "                 improving the student's skills in operating with strings;\n",
    "                  using built-in Python string methods.\n",
    "              \n",
    "   Scenario:\n",
    "   \n",
    "You already know how split() works. Now we want you to prove it.\n",
    "\n",
    "Your task is to write your own function, which behaves almost exactly like the original split() \n",
    "method, i.e.:\n",
    "\n",
    ". it should accept exactly one argument - a string;\n",
    "\n",
    ".it should return a list of words created from the string, divided in the places where the string contains whitespaces;\n",
    "\n",
    ".if the string is empty, the function should return an empty list;\n",
    "\n",
    ".its name should be mysplit()\n",
    "\n",
    "\n",
    "print(mysplit(\"To be or not to be, that is the question\"))\n",
    "print(mysplit(\"To be or not to be,that is the question\"))\n",
    "print(mysplit(\"   \"))\n",
    "print(mysplit(\" abc \"))\n",
    "print(mysplit(\"\"))\n",
    "\n",
    "output:\n",
    "['To', 'be', 'or', 'not', 'to', 'be,', 'that', 'is', 'the', 'question']\n",
    "\n",
    "['To', 'be', 'or', 'not', 'to', 'be,that', 'is', 'the', 'question']\n",
    "\n",
    "[]\n",
    "\n",
    "['abc']\n",
    "\n",
    "[]"
   ]
  },
  {
   "cell_type": "code",
   "execution_count": 62,
   "id": "693e39c7",
   "metadata": {},
   "outputs": [
    {
     "name": "stdout",
     "output_type": "stream",
     "text": [
      "[]\n"
     ]
    }
   ],
   "source": [
    "def mysplit(string):\n",
    "    the_list= []\n",
    "    the_string=\"\"\n",
    "    if len(string) > 0 :\n",
    "        for i in string:\n",
    "            if i != \" \":\n",
    "                the_string +=i\n",
    "                \n",
    "            elif the_string:\n",
    "                the_list.append(the_string)\n",
    "                the_string=\"\"\n",
    "    if the_string:\n",
    "        the_list.append(the_string)\n",
    "        print(the_list)\n",
    "    else:\n",
    "        print(the_list)\n",
    "mysplit(\"  \")"
   ]
  }
 ],
 "metadata": {
  "kernelspec": {
   "display_name": "Python 3 (ipykernel)",
   "language": "python",
   "name": "python3"
  },
  "language_info": {
   "codemirror_mode": {
    "name": "ipython",
    "version": 3
   },
   "file_extension": ".py",
   "mimetype": "text/x-python",
   "name": "python",
   "nbconvert_exporter": "python",
   "pygments_lexer": "ipython3",
   "version": "3.9.6"
  }
 },
 "nbformat": 4,
 "nbformat_minor": 5
}
