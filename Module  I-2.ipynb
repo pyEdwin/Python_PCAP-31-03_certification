{
 "cells": [
  {
   "cell_type": "markdown",
   "id": "fe1cfda3",
   "metadata": {},
   "source": [
    "    Using Modules\n",
    "\n",
    "Module is a Python file containing definitions and statements.Each module consists of entities such as: functions , classes , constans , objects and variables."
   ]
  },
  {
   "cell_type": "code",
   "execution_count": 1,
   "id": "c14278ae",
   "metadata": {},
   "outputs": [
    {
     "data": {
      "text/plain": [
       "['__doc__',\n",
       " '__loader__',\n",
       " '__name__',\n",
       " '__package__',\n",
       " '__spec__',\n",
       " 'acos',\n",
       " 'acosh',\n",
       " 'asin',\n",
       " 'asinh',\n",
       " 'atan',\n",
       " 'atan2',\n",
       " 'atanh',\n",
       " 'ceil',\n",
       " 'comb',\n",
       " 'copysign',\n",
       " 'cos',\n",
       " 'cosh',\n",
       " 'degrees',\n",
       " 'dist',\n",
       " 'e',\n",
       " 'erf',\n",
       " 'erfc',\n",
       " 'exp',\n",
       " 'expm1',\n",
       " 'fabs',\n",
       " 'factorial',\n",
       " 'floor',\n",
       " 'fmod',\n",
       " 'frexp',\n",
       " 'fsum',\n",
       " 'gamma',\n",
       " 'gcd',\n",
       " 'hypot',\n",
       " 'inf',\n",
       " 'isclose',\n",
       " 'isfinite',\n",
       " 'isinf',\n",
       " 'isnan',\n",
       " 'isqrt',\n",
       " 'lcm',\n",
       " 'ldexp',\n",
       " 'lgamma',\n",
       " 'log',\n",
       " 'log10',\n",
       " 'log1p',\n",
       " 'log2',\n",
       " 'modf',\n",
       " 'nan',\n",
       " 'nextafter',\n",
       " 'perm',\n",
       " 'pi',\n",
       " 'pow',\n",
       " 'prod',\n",
       " 'radians',\n",
       " 'remainder',\n",
       " 'sin',\n",
       " 'sinh',\n",
       " 'sqrt',\n",
       " 'tan',\n",
       " 'tanh',\n",
       " 'tau',\n",
       " 'trunc',\n",
       " 'ulp']"
      ]
     },
     "execution_count": 1,
     "metadata": {},
     "output_type": "execute_result"
    }
   ],
   "source": [
    "#Example:\n",
    "# import the module we want to use\n",
    "import math # or from math import* or from math import pi or import math as ma\n",
    "\n",
    "#list all the functions, classes , variables of the module math\n",
    "dir(math)"
   ]
  },
  {
   "cell_type": "code",
   "execution_count": 2,
   "id": "88cd3ddc",
   "metadata": {},
   "outputs": [
    {
     "name": "stdout",
     "output_type": "stream",
     "text": [
      "3.141592653589793\n"
     ]
    }
   ],
   "source": [
    "#print the value of pi\n",
    "print(math.pi) # print(ma.pi)"
   ]
  },
  {
   "cell_type": "markdown",
   "id": "66fb06dc",
   "metadata": {},
   "source": [
    "Exercise 1:\n",
    "\n",
    "You want to invoke the function make_money() contained in the module named mint. \n",
    "\n",
    "Your code begins with the following line:\n",
    "\n",
    "import mint\n",
    "\n",
    "answere >> mint.make_money()\n",
    "\n",
    "\n",
    "Exercise 2\n",
    "\n",
    "You want to invoke the function make_money() contained in the module named mint. \n",
    "\n",
    "Your code begins with the following line:\n",
    "\n",
    "from mint import make_money\n",
    "\n",
    "answere >> make_money()\n",
    "\n",
    "\n",
    "Exercise 3\n",
    "\n",
    "You've written a function named make_money on your own. You need to import a function of the same name from the mint module and don't want to rename any of your previously defined names. Which variant of the import statement may help you with the issue?\n",
    "\n",
    "answere >> from mint import make_money as money\n",
    "\n",
    "\n",
    "Exercise 4\n",
    "\n",
    "What form of the make_money function invocation is valid if your code starts with the following line?\n",
    "\n",
    "from mint import *\n",
    "\n",
    "answere >>make_money()"
   ]
  }
 ],
 "metadata": {
  "kernelspec": {
   "display_name": "Python 3 (ipykernel)",
   "language": "python",
   "name": "python3"
  },
  "language_info": {
   "codemirror_mode": {
    "name": "ipython",
    "version": 3
   },
   "file_extension": ".py",
   "mimetype": "text/x-python",
   "name": "python",
   "nbconvert_exporter": "python",
   "pygments_lexer": "ipython3",
   "version": "3.9.6"
  }
 },
 "nbformat": 4,
 "nbformat_minor": 5
}
