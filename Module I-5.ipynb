{
 "cells": [
  {
   "cell_type": "code",
   "execution_count": 2,
   "id": "5b5fc846",
   "metadata": {},
   "outputs": [
    {
     "name": "stdout",
     "output_type": "stream",
     "text": [
      "Windows-10-10.0.19043-SP0\n"
     ]
    }
   ],
   "source": [
    "#platform() : allowed to access the underlying information sush as: hardware , OS , and interperpreter information.\n",
    "\n",
    "from platform import platform\n",
    "\n",
    "print(platform())"
   ]
  },
  {
   "cell_type": "code",
   "execution_count": 3,
   "id": "05155132",
   "metadata": {},
   "outputs": [
    {
     "name": "stdout",
     "output_type": "stream",
     "text": [
      "AMD64\n"
     ]
    }
   ],
   "source": [
    "#machine() : allowed to know the processor which runs on an OS.\n",
    "from platform import machine\n",
    "\n",
    "print(machine())"
   ]
  },
  {
   "cell_type": "code",
   "execution_count": 4,
   "id": "a04f1310",
   "metadata": {},
   "outputs": [
    {
     "name": "stdout",
     "output_type": "stream",
     "text": [
      "Intel64 Family 6 Model 142 Stepping 9, GenuineIntel\n"
     ]
    }
   ],
   "source": [
    "#processsor(): allowed to return the processor name.\n",
    "from platform import processor\n",
    "\n",
    "print(processor())"
   ]
  },
  {
   "cell_type": "code",
   "execution_count": 5,
   "id": "9a8e997e",
   "metadata": {},
   "outputs": [
    {
     "name": "stdout",
     "output_type": "stream",
     "text": [
      "Windows\n"
     ]
    }
   ],
   "source": [
    "#system(): allowed to return OS name.\n",
    "from platform import system\n",
    "\n",
    "print(system())"
   ]
  },
  {
   "cell_type": "code",
   "execution_count": 6,
   "id": "ebb4e037",
   "metadata": {},
   "outputs": [
    {
     "name": "stdout",
     "output_type": "stream",
     "text": [
      "10.0.19043\n"
     ]
    }
   ],
   "source": [
    "#version() : allowed to return the OS version.\n",
    "from platform import version\n",
    "\n",
    "print(version())"
   ]
  },
  {
   "cell_type": "code",
   "execution_count": 7,
   "id": "c4b00a25",
   "metadata": {},
   "outputs": [
    {
     "name": "stdout",
     "output_type": "stream",
     "text": [
      "CPython\n"
     ]
    }
   ],
   "source": [
    "#python_implementation() : allowed to return a string denoting the Python implementation.\n",
    "from platform import python_implementation\n",
    "\n",
    "print(python_implementation())"
   ]
  },
  {
   "cell_type": "code",
   "execution_count": 8,
   "id": "431c0ae6",
   "metadata": {},
   "outputs": [
    {
     "name": "stdout",
     "output_type": "stream",
     "text": [
      "('3', '9', '6')\n"
     ]
    }
   ],
   "source": [
    "#python_version_tuple(): allowed to return a three-element tuple\n",
    "from platform import python_version_tuple\n",
    "\n",
    "print(python_version_tuple())"
   ]
  },
  {
   "cell_type": "code",
   "execution_count": 9,
   "id": "11713a23",
   "metadata": {},
   "outputs": [],
   "source": [
    "#Exercise 1\n",
    "\n",
    "# What is the expected value of the result variable after the following code is executed?\n",
    "\n",
    "import math\n",
    "result = math.e == math.exp(1) #True\n"
   ]
  },
  {
   "cell_type": "code",
   "execution_count": null,
   "id": "0e715eb4",
   "metadata": {},
   "outputs": [],
   "source": [
    "#Exercise 2\n",
    "\n",
    "#(Complete the sentence)\n",
    "# Setting the generator's seed with the same value each time your program is run guarantees that...\n",
    "\n",
    "## ... the pseudo-random values emitted from the random module will be exactly the same."
   ]
  },
  {
   "cell_type": "code",
   "execution_count": null,
   "id": "1d5bffac",
   "metadata": {},
   "outputs": [],
   "source": [
    "#Exercise 3\n",
    "\n",
    "# Which of the platform module's functions will you use to determine the name of the CPU running inside your computer?\n",
    "#The processor() function"
   ]
  },
  {
   "cell_type": "code",
   "execution_count": 10,
   "id": "f61dd6f8",
   "metadata": {},
   "outputs": [
    {
     "name": "stdout",
     "output_type": "stream",
     "text": [
      "3\n"
     ]
    }
   ],
   "source": [
    "#Exercise 4\n",
    "\n",
    "#What is the expected output of the following snippet?\n",
    "import platform\n",
    "\n",
    "print(len(platform.python_version_tuple()))"
   ]
  },
  {
   "cell_type": "code",
   "execution_count": null,
   "id": "573c9f94",
   "metadata": {},
   "outputs": [],
   "source": []
  }
 ],
 "metadata": {
  "kernelspec": {
   "display_name": "Python 3 (ipykernel)",
   "language": "python",
   "name": "python3"
  },
  "language_info": {
   "codemirror_mode": {
    "name": "ipython",
    "version": 3
   },
   "file_extension": ".py",
   "mimetype": "text/x-python",
   "name": "python",
   "nbconvert_exporter": "python",
   "pygments_lexer": "ipython3",
   "version": "3.9.6"
  }
 },
 "nbformat": 4,
 "nbformat_minor": 5
}
