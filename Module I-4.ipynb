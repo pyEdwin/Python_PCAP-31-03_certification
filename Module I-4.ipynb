{
 "cells": [
  {
   "cell_type": "code",
   "execution_count": 2,
   "id": "ee71f791",
   "metadata": {},
   "outputs": [
    {
     "name": "stdout",
     "output_type": "stream",
     "text": [
      "0.7237158166532186\n",
      "0.721569363338261\n",
      "0.6031659461768792\n",
      "0.41958600305536986\n"
     ]
    }
   ],
   "source": [
    "#random function produces a floating number between 0.0 and 1.0\n",
    "from random import random\n",
    "for i in range (4):\n",
    "    print(random())"
   ]
  },
  {
   "cell_type": "code",
   "execution_count": 4,
   "id": "33267f05",
   "metadata": {},
   "outputs": [
    {
     "name": "stdout",
     "output_type": "stream",
     "text": [
      "0.8444218515250481\n",
      "0.7579544029403025\n",
      "0.420571580830845\n",
      "0.25891675029296335\n"
     ]
    }
   ],
   "source": [
    "#seed:sets the seed with the current time\n",
    "from random import random, seed\n",
    "seed(0)\n",
    "for i in range (4):\n",
    "    print(random())"
   ]
  },
  {
   "cell_type": "code",
   "execution_count": 5,
   "id": "d083a65a",
   "metadata": {},
   "outputs": [
    {
     "name": "stdout",
     "output_type": "stream",
     "text": [
      "0.9560342718892494\n",
      "0.9478274870593494\n",
      "0.05655136772680869\n",
      "0.08487199515892163\n"
     ]
    }
   ],
   "source": [
    "seed(2)\n",
    "for i in range (4):\n",
    "    print(random())"
   ]
  },
  {
   "cell_type": "code",
   "execution_count": 16,
   "id": "9a2473b6",
   "metadata": {},
   "outputs": [
    {
     "name": "stdout",
     "output_type": "stream",
     "text": [
      "1\n",
      "###\n",
      "6\n",
      "###\n",
      "5\n"
     ]
    }
   ],
   "source": [
    "#randrange():  method returns a randomly selected element from the specified range\n",
    "from random import randrange\n",
    "\n",
    "#randrange(end)\n",
    "print(randrange(4))\n",
    "print(\"###\")\n",
    "#randrange(beg , end)\n",
    "print(randrange(5,9))\n",
    "print(\"###\")\n",
    "#randrange(beg , end, step)\n",
    "print(randrange(5, 9 , 1))\n"
   ]
  },
  {
   "cell_type": "code",
   "execution_count": 18,
   "id": "50aa6c6b",
   "metadata": {},
   "outputs": [
    {
     "name": "stdout",
     "output_type": "stream",
     "text": [
      "5\n"
     ]
    }
   ],
   "source": [
    "#randint() : method returns an integer number selected element from the specified range\n",
    "from random import randint\n",
    "\n",
    "#randint(left ,right)\n",
    "print(randint(4 , 9))\n"
   ]
  },
  {
   "cell_type": "code",
   "execution_count": 20,
   "id": "12d28c89",
   "metadata": {},
   "outputs": [
    {
     "name": "stdout",
     "output_type": "stream",
     "text": [
      "67\n"
     ]
    }
   ],
   "source": [
    "#choice(): (better than randint), method returns random number from a sequence.\n",
    "from random import choice\n",
    "\n",
    "sequence =[23,45,67,43,23,67,77654,6,777,7,7,5,4,3,6]\n",
    "print(choice(sequence))"
   ]
  },
  {
   "cell_type": "code",
   "execution_count": 21,
   "id": "6be88a39",
   "metadata": {},
   "outputs": [
    {
     "name": "stdout",
     "output_type": "stream",
     "text": [
      "[67, 6, 777, 4, 67, 5]\n"
     ]
    }
   ],
   "source": [
    "#sample() : sample(sequence , elements_to_choose)\n",
    "from random import sample\n",
    "\n",
    "sequence =[23,45,67,43,23,67,77654,6,777,7,7,5,4,3,6]\n",
    "print(sample(sequence , 6))"
   ]
  },
  {
   "cell_type": "code",
   "execution_count": null,
   "id": "872b2ded",
   "metadata": {},
   "outputs": [],
   "source": []
  }
 ],
 "metadata": {
  "kernelspec": {
   "display_name": "Python 3 (ipykernel)",
   "language": "python",
   "name": "python3"
  },
  "language_info": {
   "codemirror_mode": {
    "name": "ipython",
    "version": 3
   },
   "file_extension": ".py",
   "mimetype": "text/x-python",
   "name": "python",
   "nbconvert_exporter": "python",
   "pygments_lexer": "ipython3",
   "version": "3.9.6"
  }
 },
 "nbformat": 4,
 "nbformat_minor": 5
}
