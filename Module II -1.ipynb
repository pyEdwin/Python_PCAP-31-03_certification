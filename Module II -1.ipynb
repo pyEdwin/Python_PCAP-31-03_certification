{
 "cells": [
  {
   "cell_type": "code",
   "execution_count": 1,
   "id": "d3eb31c1",
   "metadata": {},
   "outputs": [
    {
     "ename": "TypeError",
     "evalue": "'str' object does not support item assignment",
     "output_type": "error",
     "traceback": [
      "\u001b[1;31m---------------------------------------------------------------------------\u001b[0m",
      "\u001b[1;31mTypeError\u001b[0m                                 Traceback (most recent call last)",
      "Input \u001b[1;32mIn [1]\u001b[0m, in \u001b[0;36m<cell line: 4>\u001b[1;34m()\u001b[0m\n\u001b[0;32m      1\u001b[0m \u001b[38;5;66;03m# Python's strings are immutable sequences.\u001b[39;00m\n\u001b[0;32m      3\u001b[0m string \u001b[38;5;241m=\u001b[39m \u001b[38;5;124m\"\u001b[39m\u001b[38;5;124mHello World!\u001b[39m\u001b[38;5;124m\"\u001b[39m\n\u001b[1;32m----> 4\u001b[0m string[\u001b[38;5;241m0\u001b[39m] \u001b[38;5;241m=\u001b[39m \u001b[38;5;124m\"\u001b[39m\u001b[38;5;124mB\u001b[39m\u001b[38;5;124m\"\u001b[39m\n\u001b[0;32m      5\u001b[0m string\n",
      "\u001b[1;31mTypeError\u001b[0m: 'str' object does not support item assignment"
     ]
    }
   ],
   "source": [
    "# Python's strings are immutable sequences.\n",
    "\n",
    "string = \"Hello World!\"\n",
    "string[0] = \"B\"\n",
    "string"
   ]
  },
  {
   "cell_type": "code",
   "execution_count": 3,
   "id": "2b2ddecd",
   "metadata": {},
   "outputs": [
    {
     "data": {
      "text/plain": [
       "23"
      ]
     },
     "execution_count": 3,
     "metadata": {},
     "output_type": "execute_result"
    }
   ],
   "source": [
    "# Multiline strings\n",
    "\n",
    "string = ''' I am \n",
    "\n",
    "learning Python'''\n",
    "string"
   ]
  },
  {
   "cell_type": "markdown",
   "id": "7d8bb194",
   "metadata": {},
   "source": [
    "   Operations on strings"
   ]
  },
  {
   "cell_type": "code",
   "execution_count": 5,
   "id": "9b1d3a77",
   "metadata": {},
   "outputs": [
    {
     "data": {
      "text/plain": [
       "'Hello World!'"
      ]
     },
     "execution_count": 5,
     "metadata": {},
     "output_type": "execute_result"
    }
   ],
   "source": [
    "# Concatinate : + is used to conatinate strings\n",
    "\n",
    "string_1 = \"Hello\"\n",
    "string_2 = \" World!\"\n",
    "string = string_1 + string_2\n",
    "string"
   ]
  },
  {
   "cell_type": "code",
   "execution_count": 8,
   "id": "43c0ba8b",
   "metadata": {},
   "outputs": [
    {
     "data": {
      "text/plain": [
       "'Hello World!    Hello World!    Hello World!    '"
      ]
     },
     "execution_count": 8,
     "metadata": {},
     "output_type": "execute_result"
    }
   ],
   "source": [
    "# Replicate : * is used to replicate strings\n",
    "\n",
    "string = \"Hello World!    \"  *  3\n",
    "string"
   ]
  },
  {
   "cell_type": "code",
   "execution_count": 9,
   "id": "95d14bbc",
   "metadata": {},
   "outputs": [
    {
     "data": {
      "text/plain": [
       "104"
      ]
     },
     "execution_count": 9,
     "metadata": {},
     "output_type": "execute_result"
    }
   ],
   "source": [
    "# ord() : used to know  a specific character's ASCII/UNICODE code point value.\n",
    "\n",
    "string = \"h\"\n",
    "ord(string)"
   ]
  },
  {
   "cell_type": "code",
   "execution_count": 10,
   "id": "250c31d0",
   "metadata": {},
   "outputs": [
    {
     "data": {
      "text/plain": [
       "'('"
      ]
     },
     "execution_count": 10,
     "metadata": {},
     "output_type": "execute_result"
    }
   ],
   "source": [
    "#chr() : used to know the character of a code point(number).\n",
    "\n",
    "number = 40\n",
    "chr(number)"
   ]
  },
  {
   "cell_type": "code",
   "execution_count": 4,
   "id": "f8767ed4",
   "metadata": {},
   "outputs": [
    {
     "name": "stdout",
     "output_type": "stream",
     "text": [
      "index: 0   value: H \n",
      "index: 1   value: e \n",
      "index: 2   value: l \n",
      "index: 3   value: l \n",
      "index: 4   value: o \n",
      "index: 5   value:   \n",
      "index: 6   value: W \n",
      "index: 7   value: o \n",
      "index: 8   value: r \n",
      "index: 9   value: l \n",
      "index: 10   value: d \n",
      "index: 11   value: ! \n"
     ]
    }
   ],
   "source": [
    "#Strings as sequences: indexing\n",
    "string = \"Hello World!\"\n",
    "for i in range(len(string)):\n",
    "    print(\"index: {}   value: {} \".format(i, string[i]))\n",
    "    "
   ]
  },
  {
   "cell_type": "code",
   "execution_count": 5,
   "id": "21c1f4dd",
   "metadata": {},
   "outputs": [
    {
     "name": "stdout",
     "output_type": "stream",
     "text": [
      "H\n",
      "e\n",
      "l\n",
      "l\n",
      "o\n",
      " \n",
      "W\n",
      "o\n",
      "r\n",
      "l\n",
      "d\n",
      "!\n"
     ]
    }
   ],
   "source": [
    "#Strings as sequences: iterating\n",
    "string = \"Hello World!\"\n",
    "for i in string:\n",
    "    print(i)"
   ]
  },
  {
   "cell_type": "code",
   "execution_count": 20,
   "id": "b1cb500d",
   "metadata": {},
   "outputs": [
    {
     "name": "stdout",
     "output_type": "stream",
     "text": [
      "Starts from index (1) until index (2): el \n",
      "\n",
      "Starts from index(3) until the end of the string: lo World \n",
      "\n",
      "Starts from index(3) until index(-3) lo Wor \n",
      "\n",
      "Starts from index(-5) until index(-6) W \n",
      "\n",
      "Starts from index(0) the end of the string , but step 2  HloWrd \n",
      "\n"
     ]
    }
   ],
   "source": [
    "##### Slicing\n",
    "string = \"Hello World\"\n",
    "print(\"Starts from index (1) until index (2):\",string[1:3],\"\\n\")\n",
    "print(\"Starts from index(3) until the end of the string:\",string[3:],\"\\n\")\n",
    "print(\"Starts from index(3) until index(-3)\", string[3:-2],\"\\n\")\n",
    "print(\"Starts from index(-5) until index(-6)\", string[-5:7],\"\\n\")\n",
    "print(\"Starts from index(0) the end of the string , but step 2 \", string[::2],\"\\n\")"
   ]
  },
  {
   "cell_type": "code",
   "execution_count": 22,
   "id": "9a1f269b",
   "metadata": {},
   "outputs": [
    {
     "name": "stdout",
     "output_type": "stream",
     "text": [
      "False \n",
      "\n",
      "True \n",
      "\n"
     ]
    }
   ],
   "source": [
    "#The in and not in operators\n",
    "string = \"Hello World!\"\n",
    "\n",
    "#in\n",
    "print(\"1\" in string,\"\\n\" )\n",
    "\n",
    "#not in\n",
    "print(\"1\" not in string,\"\\n\")\n"
   ]
  },
  {
   "cell_type": "code",
   "execution_count": 31,
   "id": "43cf3de3",
   "metadata": {},
   "outputs": [
    {
     "data": {
      "text/plain": [
       "'Hello World!'"
      ]
     },
     "execution_count": 31,
     "metadata": {},
     "output_type": "execute_result"
    }
   ],
   "source": [
    "#Python strings are immutable\n",
    "#can not append and insert with strings\n",
    "\n",
    "string = \"Hello World!\"\n",
    "#del string[0]\n",
    "\n",
    "string_a = \"Hello\"\n",
    "string_b = string_a + \" Wolrd!\"\n",
    "string_b\n",
    "\n",
    "string_a = \"Hello\"+ \" World!\"\n",
    "string_a"
   ]
  },
  {
   "cell_type": "code",
   "execution_count": 41,
   "id": "d46fa607",
   "metadata": {},
   "outputs": [
    {
     "name": "stdout",
     "output_type": "stream",
     "text": [
      " \n"
     ]
    }
   ],
   "source": [
    "#Operations on strings: min() :finds the minimum element of the sequence passed as an argument.\n",
    "\n",
    "print(min(\"Hello Adams\"))"
   ]
  },
  {
   "cell_type": "code",
   "execution_count": 42,
   "id": "6a56a327",
   "metadata": {},
   "outputs": [
    {
     "name": "stdout",
     "output_type": "stream",
     "text": [
      "s\n"
     ]
    }
   ],
   "source": [
    "#Operations on strings: max()\n",
    "print(max(\"Hello Adams\"))"
   ]
  },
  {
   "cell_type": "code",
   "execution_count": 44,
   "id": "ad7dc586",
   "metadata": {},
   "outputs": [
    {
     "name": "stdout",
     "output_type": "stream",
     "text": [
      "2\n"
     ]
    }
   ],
   "source": [
    "#Operations on strings: the index() :searches the sequence from the beginning, in order to find the first element of the value specified in its argument\n",
    "\n",
    "string = \"I am learning Python.\"\n",
    "print(string.index(\"a\"))"
   ]
  },
  {
   "cell_type": "code",
   "execution_count": 45,
   "id": "eaeac9b5",
   "metadata": {},
   "outputs": [
    {
     "name": "stdout",
     "output_type": "stream",
     "text": [
      "[' ', 'H', 'e', 'l', 'l', 'o']\n"
     ]
    }
   ],
   "source": [
    "#Operations on strings: the list() : takes its argument (a string) and creates a new list containing all the string's characters, one per list element.\n",
    "\n",
    "string = \" Hello\"\n",
    "print(list(string))"
   ]
  },
  {
   "cell_type": "code",
   "execution_count": 46,
   "id": "aa0a81e9",
   "metadata": {},
   "outputs": [
    {
     "name": "stdout",
     "output_type": "stream",
     "text": [
      "2\n"
     ]
    }
   ],
   "source": [
    "#Operations on strings: the count() :counts all occurrences of the element inside the sequence.\n",
    "\n",
    "string = \"Hello\"\n",
    "print(string.count(\"l\"))"
   ]
  },
  {
   "cell_type": "markdown",
   "id": "27bf9a0a",
   "metadata": {},
   "source": [
    "Exercise 1\n",
    "\n",
    "What is the length of the following string assuming there is no whitespaces between the quotes?"
   ]
  },
  {
   "cell_type": "code",
   "execution_count": 47,
   "id": "3402f1a6",
   "metadata": {},
   "outputs": [
    {
     "data": {
      "text/plain": [
       "2"
      ]
     },
     "execution_count": 47,
     "metadata": {},
     "output_type": "execute_result"
    }
   ],
   "source": [
    "empty_str = '''\n",
    "\n",
    "'''\n",
    "len(empty_str)"
   ]
  },
  {
   "cell_type": "markdown",
   "id": "f7563cf7",
   "metadata": {},
   "source": [
    "Exercise 2\n",
    "\n",
    "What is the expected output of the following code?"
   ]
  },
  {
   "cell_type": "code",
   "execution_count": 48,
   "id": "ea7a09c4",
   "metadata": {},
   "outputs": [
    {
     "name": "stdout",
     "output_type": "stream",
     "text": [
      "['t', 'e', 'r']\n"
     ]
    }
   ],
   "source": [
    "s = 'yesteryears'\n",
    "the_list = list(s)\n",
    "print(the_list[3:6])\n"
   ]
  },
  {
   "cell_type": "markdown",
   "id": "3f132b94",
   "metadata": {},
   "source": [
    "Exercise 3\n",
    "\n",
    "What is the expected output of the following code?"
   ]
  },
  {
   "cell_type": "code",
   "execution_count": 49,
   "id": "215ebbb0",
   "metadata": {},
   "outputs": [
    {
     "name": "stdout",
     "output_type": "stream",
     "text": [
      "bcd"
     ]
    }
   ],
   "source": [
    "for ch in \"abc\":\n",
    "    print(chr(ord(ch) + 1), end='')"
   ]
  },
  {
   "cell_type": "code",
   "execution_count": null,
   "id": "9a5e09b4",
   "metadata": {},
   "outputs": [],
   "source": []
  },
  {
   "cell_type": "code",
   "execution_count": null,
   "id": "1db5dea2",
   "metadata": {},
   "outputs": [],
   "source": []
  }
 ],
 "metadata": {
  "kernelspec": {
   "display_name": "Python 3 (ipykernel)",
   "language": "python",
   "name": "python3"
  },
  "language_info": {
   "codemirror_mode": {
    "name": "ipython",
    "version": 3
   },
   "file_extension": ".py",
   "mimetype": "text/x-python",
   "name": "python",
   "nbconvert_exporter": "python",
   "pygments_lexer": "ipython3",
   "version": "3.9.6"
  }
 },
 "nbformat": 4,
 "nbformat_minor": 5
}
