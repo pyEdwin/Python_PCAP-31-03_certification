{
 "cells": [
  {
   "cell_type": "markdown",
   "id": "ec314ef7",
   "metadata": {},
   "source": [
    "                        The Caesar Cipher: encrypting a message\n",
    "\n",
    "We're going to show you four simple programs in order to present some aspects of string processing in Python. They are purposefully simple, but the lab problems will be significantly more complicated.\n",
    "\n",
    "The first problem we want to show you is called the Caesar cipher - more details here: https://en.wikipedia.org/wiki/Caesar_cipher.\n",
    "\n",
    "This cipher was (probably) invented and used by Gaius Julius Caesar and his troops during the Gallic Wars. The idea is rather simple - every letter of the message is replaced by its nearest consequent (A becomes B, B becomes C, and so on). The only exception is Z, which becomes A."
   ]
  },
  {
   "cell_type": "code",
   "execution_count": 9,
   "id": "9bc47d9d",
   "metadata": {},
   "outputs": [
    {
     "name": "stdout",
     "output_type": "stream",
     "text": [
      "Enter your message here:Hello\n",
      "IFMMP\n"
     ]
    }
   ],
   "source": [
    "message = input(\"Enter your message here:\")\n",
    "encrypted_message = \"\"\n",
    "for mes in message:\n",
    "    if not mes.isalpha():\n",
    "        print(\"ye\")\n",
    "    mes = mes.upper()\n",
    "    trans = ord(mes)+1\n",
    "    if trans > ord(\"Z\"):\n",
    "        trans = ord(\"A\")\n",
    "    encrypted_message +=chr(trans)\n",
    "    \n",
    "print(encrypted_message)\n"
   ]
  },
  {
   "cell_type": "markdown",
   "id": "80be6f1a",
   "metadata": {},
   "source": [
    "            The Caesar Cipher: decrypting a message"
   ]
  },
  {
   "cell_type": "code",
   "execution_count": 10,
   "id": "7fdf17f8",
   "metadata": {},
   "outputs": [
    {
     "name": "stdout",
     "output_type": "stream",
     "text": [
      "Enter your message here:Hello\n",
      "IFMMP\n"
     ]
    }
   ],
   "source": [
    "message = input(\"Enter your message here:\")\n",
    "decrypted_message = \"\"\n",
    "for mes in message:\n",
    "    if not mes.isalpha():\n",
    "        print(\"ye\")\n",
    "    mes = mes.upper()\n",
    "    trans = ord(mes)+1\n",
    "    if trans > ord(\"Z\"):\n",
    "        trans = ord(\"A\")\n",
    "    decrypted_message +=chr(trans)\n",
    "    \n",
    "print(decrypted_message)\n"
   ]
  },
  {
   "cell_type": "markdown",
   "id": "7b84427d",
   "metadata": {},
   "source": [
    "                                     The Numbers Processor"
   ]
  },
  {
   "cell_type": "code",
   "execution_count": 11,
   "id": "f2f35355",
   "metadata": {},
   "outputs": [
    {
     "name": "stdout",
     "output_type": "stream",
     "text": [
      "Enter numbers separated with spaces: 1 2 3 4\n",
      "Sum of line numbers is : 10\n"
     ]
    }
   ],
   "source": [
    "line_numbers= input(\"Enter numbers separated with spaces: \")\n",
    "split_line_numbers = line_numbers.split()\n",
    "sum_line_numbers = 0\n",
    "try:\n",
    "    for i in split_line_numbers:\n",
    "        sum_line_numbers += int(i)\n",
    "    print(\"Sum of line numbers is : {}\".format(sum_line_numbers))\n",
    "except:\n",
    "    print(\"{} , line numbers is not correct.\".format(i))\n",
    "    \n",
    "        "
   ]
  },
  {
   "cell_type": "markdown",
   "id": "729a8f4c",
   "metadata": {},
   "source": [
    "                                    The IBAN Validator"
   ]
  },
  {
   "cell_type": "markdown",
   "id": "4b798dcf",
   "metadata": {},
   "source": [
    "The fourth program implements (in a slightly simplified form) an algorithm used by European banks to specify account numbers. The standard named IBAN (International Bank Account Number) provides a simple and fairly reliable method of validating the account numbers against simple typos that can occur during rewriting of the number e.g., \n",
    "from paper documents, like invoices or bills, into computers.\n",
    "\n",
    "You can find more details here: https://en.wikipedia.org/wiki/International_Bank_Account_Number.\n",
    "\n",
    "An IBAN-compliant account number consists of:\n",
    "\n",
    ".a two-letter country code taken from the ISO 3166-1 standard (e.g., FR for France, GB for Great Britain, DE for Germany, and so on)\n",
    "\n",
    ".two check digits used to perform the validity checks - fast and simple, but not fully reliable, tests, showing whether a number is invalid (distorted by a typo) or seems to be good;\n",
    "\n",
    ".the actual account number (up to 30 alphanumeric characters - the length of that part depends on the country)\n",
    "\n",
    "\n",
    "The standard says that validation requires the following steps (according to Wikipedia):\n",
    "\n",
    "(step 1) Check that the total IBAN length is correct as per the country (this program won't do that, but you can modify the code to meet this requirement if you wish; note: you have to teach the code all the lengths used in Europe)\n",
    "\n",
    "(step 2) Move the four initial characters to the end of the string (i.e., the country code and the check digits)\n",
    "\n",
    "(step 3) Replace each letter in the string with two digits, thereby expanding the string, where A = 10, B = 11 ... Z = 35;\n",
    "\n",
    "(step 4) Interpret the string as a decimal integer and compute the remainder of that number on division by 97; If the remainder is 1, the check digit test is passed and the IBAN might be valid."
   ]
  },
  {
   "cell_type": "code",
   "execution_count": 8,
   "id": "e5d51083",
   "metadata": {},
   "outputs": [
    {
     "name": "stdout",
     "output_type": "stream",
     "text": [
      "Enter IBAN here:  1q2w3e4r5t6y7u8i9o0p\n",
      "3E4R5T6Y7U8I9O0P1Q2W\n",
      "IBAN is correct.\n",
      "\n"
     ]
    }
   ],
   "source": [
    "ban = input(\"Enter IBAN here:  \")\n",
    "ban = ban.replace(' ', '')\n",
    "\n",
    "if not ban.isalnum():\n",
    "    print(\"{} is not a valid IBAN.\".format(ban))\n",
    "elif len(ban) < 15:\n",
    "    print(\"{} is too short for an IBAN\".format(ban))\n",
    "elif len(ban) > 31:\n",
    "    print(\"{} is too long for an IBAN\".format(ban))\n",
    "else:\n",
    "    new_ban = (ban[4:] + ban[0:4]).upper()\n",
    "    print(new_ban)\n",
    "    ban2 = ''\n",
    "    for i in new_ban:\n",
    "        if i.isdigit():\n",
    "            ban2 +=i\n",
    "        else:\n",
    "            ban2 += str(10+ ord(i) -ord('A'))\n",
    "    new_ban = int(ban2)\n",
    "    if new_ban % 97 ==1:\n",
    "        print(\"IBAN is correct.\\n\")\n",
    "    else:\n",
    "        print(\"IBAN is not correct.\\n\")\n",
    "        \n",
    "            "
   ]
  },
  {
   "cell_type": "code",
   "execution_count": null,
   "id": "7051731c",
   "metadata": {},
   "outputs": [],
   "source": []
  },
  {
   "cell_type": "code",
   "execution_count": null,
   "id": "a016d948",
   "metadata": {},
   "outputs": [],
   "source": []
  }
 ],
 "metadata": {
  "kernelspec": {
   "display_name": "Python 3 (ipykernel)",
   "language": "python",
   "name": "python3"
  },
  "language_info": {
   "codemirror_mode": {
    "name": "ipython",
    "version": 3
   },
   "file_extension": ".py",
   "mimetype": "text/x-python",
   "name": "python",
   "nbconvert_exporter": "python",
   "pygments_lexer": "ipython3",
   "version": "3.9.6"
  }
 },
 "nbformat": 4,
 "nbformat_minor": 5
}
