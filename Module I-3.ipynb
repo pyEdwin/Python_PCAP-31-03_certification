{
 "cells": [
  {
   "cell_type": "code",
   "execution_count": 3,
   "id": "d834ecdd",
   "metadata": {},
   "outputs": [
    {
     "name": "stdout",
     "output_type": "stream",
     "text": [
      "2.1374118819130998e-18\n"
     ]
    }
   ],
   "source": [
    "from math import sin , pi, radians\n",
    "\n",
    "print(radians(sin(pi)))"
   ]
  },
  {
   "cell_type": "code",
   "execution_count": 7,
   "id": "5278a5e7",
   "metadata": {},
   "outputs": [
    {
     "name": "stdout",
     "output_type": "stream",
     "text": [
      "54.598150033144236\n"
     ]
    }
   ],
   "source": [
    "from math import exp\n",
    "\n",
    "x = 4\n",
    "\n",
    "\n",
    "print(exp(x))"
   ]
  },
  {
   "cell_type": "code",
   "execution_count": 9,
   "id": "dc805161",
   "metadata": {},
   "outputs": [
    {
     "name": "stdout",
     "output_type": "stream",
     "text": [
      "9\n",
      "5.7\n"
     ]
    }
   ],
   "source": [
    "# ceil(x): the smallest integer greater than or equal to x.\n",
    "from math import ceil\n",
    "\n",
    "number = 9\n",
    "print(ceil(number))\n",
    "\n",
    "num = 5.7\n",
    "print(num)"
   ]
  },
  {
   "cell_type": "code",
   "execution_count": 14,
   "id": "afcafcb1",
   "metadata": {},
   "outputs": [
    {
     "name": "stdout",
     "output_type": "stream",
     "text": [
      "10\n"
     ]
    }
   ],
   "source": [
    "#floor(x): the largest integer  less than or equal to x.\n",
    "from math import floor\n",
    "\n",
    "number = 10.5\n",
    "print(floor(number))"
   ]
  },
  {
   "cell_type": "code",
   "execution_count": 15,
   "id": "602b39e7",
   "metadata": {},
   "outputs": [
    {
     "name": "stdout",
     "output_type": "stream",
     "text": [
      "4\n"
     ]
    }
   ],
   "source": [
    "#trunc(x): equivalent either of ceil or floor\n",
    "from math import trunc\n",
    "\n",
    "print(trunc(4.6))"
   ]
  }
 ],
 "metadata": {
  "kernelspec": {
   "display_name": "Python 3 (ipykernel)",
   "language": "python",
   "name": "python3"
  },
  "language_info": {
   "codemirror_mode": {
    "name": "ipython",
    "version": 3
   },
   "file_extension": ".py",
   "mimetype": "text/x-python",
   "name": "python",
   "nbconvert_exporter": "python",
   "pygments_lexer": "ipython3",
   "version": "3.9.6"
  }
 },
 "nbformat": 4,
 "nbformat_minor": 5
}
