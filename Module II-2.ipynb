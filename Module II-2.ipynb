{
 "cells": [
  {
   "cell_type": "code",
   "execution_count": 3,
   "id": "c99fe929",
   "metadata": {},
   "outputs": [
    {
     "name": "stdout",
     "output_type": "stream",
     "text": [
      "True\n",
      "False\n",
      "True\n"
     ]
    }
   ],
   "source": [
    "# comparing string (<= , => , == , !=)\n",
    "# upper-case letters are taken as lesser than lower-case.\n",
    "# longer string is considered greater.\n",
    "\n",
    "print('Beta' < \"learn\")\n",
    "\n",
    "print(\"hello\" == \"Hello\")\n",
    "\n",
    "print(\"Learn\" <= \"Learn\")"
   ]
  },
  {
   "cell_type": "code",
   "execution_count": 15,
   "id": "1437d675",
   "metadata": {},
   "outputs": [
    {
     "name": "stdout",
     "output_type": "stream",
     "text": [
      "['Apple', 'Banana', 'Orange', 'Plantain']\n",
      "After using sorted(): ['Banana', 'Apple', 'Orange', 'Plantain']\n",
      "After using sort(): ['Eric', 'Jean', 'Nancy', 'Paul']\n"
     ]
    }
   ],
   "source": [
    "# sorting() : takes an argument (list) and returns a new list sorted .The original list does not change.\n",
    "string = [\"Banana\" , \"Apple\" , \"Orange\" , \"Plantain\"]\n",
    "print(sorted(string))\n",
    "print(\"After using sorted():\", string)\n",
    "\n",
    "\n",
    "#sort() : return a list sorted.\n",
    "lst = [\"Jean\" , \"Paul\" , \"Eric\" , \"Nancy\"]\n",
    "lst.sort()\n",
    "print(\"After using sort():\", lst)\n"
   ]
  },
  {
   "cell_type": "code",
   "execution_count": 20,
   "id": "17da2358",
   "metadata": {},
   "outputs": [
    {
     "name": "stdout",
     "output_type": "stream",
     "text": [
      "124\n",
      "1256.89\n",
      "3456\n",
      "<class 'str'>\n"
     ]
    }
   ],
   "source": [
    "# Strings vs. numbers\n",
    "# convert a string to a number(integer)\n",
    "print(int(\"124\"))\n",
    "\n",
    "# convert a string to a decimal number(float)\n",
    "print(float(\"1256.89\"))\n",
    "\n",
    "# convert a number to string (str)\n",
    "print(str(3456))\n",
    "print(type(str(3456)))"
   ]
  },
  {
   "cell_type": "markdown",
   "id": "f5f5784b",
   "metadata": {},
   "source": [
    "Exercise 1\n",
    "\n",
    "Which of the following lines describe a true condition?"
   ]
  },
  {
   "cell_type": "code",
   "execution_count": 21,
   "id": "24e4145e",
   "metadata": {},
   "outputs": [
    {
     "name": "stdout",
     "output_type": "stream",
     "text": [
      "True\n",
      "False\n",
      "True\n",
      "True\n"
     ]
    }
   ],
   "source": [
    "print('smith' > 'Smith')\n",
    "\n",
    "print('Smiths' < 'Smith')\n",
    "\n",
    "print('Smith' > '1000')\n",
    "\n",
    "print('11' < '8')"
   ]
  },
  {
   "cell_type": "markdown",
   "id": "849c5c11",
   "metadata": {},
   "source": [
    "Exercise 2\n",
    "\n",
    "What is the expected output of the following code?"
   ]
  },
  {
   "cell_type": "code",
   "execution_count": 24,
   "id": "761f5617",
   "metadata": {},
   "outputs": [
    {
     "name": "stdout",
     "output_type": "stream",
     "text": [
      "are\n"
     ]
    }
   ],
   "source": [
    "s1 = 'Where are the snows of yesteryear?'\n",
    "s2 = s1.split()\n",
    "s3 = sorted(s2)\n",
    "print(s3[1])\n"
   ]
  },
  {
   "cell_type": "markdown",
   "id": "5c8decee",
   "metadata": {},
   "source": [
    "Exercise 3\n",
    "\n",
    "What is the expected result of the following code?"
   ]
  },
  {
   "cell_type": "code",
   "execution_count": 25,
   "id": "1bd8a4f9",
   "metadata": {},
   "outputs": [
    {
     "ename": "ValueError",
     "evalue": "invalid literal for int() with base 10: '12.8'",
     "output_type": "error",
     "traceback": [
      "\u001b[1;31m---------------------------------------------------------------------------\u001b[0m",
      "\u001b[1;31mValueError\u001b[0m                                Traceback (most recent call last)",
      "Input \u001b[1;32mIn [25]\u001b[0m, in \u001b[0;36m<cell line: 2>\u001b[1;34m()\u001b[0m\n\u001b[0;32m      1\u001b[0m s1 \u001b[38;5;241m=\u001b[39m \u001b[38;5;124m'\u001b[39m\u001b[38;5;124m12.8\u001b[39m\u001b[38;5;124m'\u001b[39m\n\u001b[1;32m----> 2\u001b[0m i \u001b[38;5;241m=\u001b[39m \u001b[38;5;28;43mint\u001b[39;49m\u001b[43m(\u001b[49m\u001b[43ms1\u001b[49m\u001b[43m)\u001b[49m\n\u001b[0;32m      3\u001b[0m s2 \u001b[38;5;241m=\u001b[39m \u001b[38;5;28mstr\u001b[39m(i)\n\u001b[0;32m      4\u001b[0m f \u001b[38;5;241m=\u001b[39m \u001b[38;5;28mfloat\u001b[39m(s2)\n",
      "\u001b[1;31mValueError\u001b[0m: invalid literal for int() with base 10: '12.8'"
     ]
    }
   ],
   "source": [
    "s1 = '12.8'\n",
    "i = int(s1)\n",
    "s2 = str(i)\n",
    "f = float(s2)\n",
    "print(s1 == s2)"
   ]
  },
  {
   "cell_type": "markdown",
   "id": "f5c122de",
   "metadata": {},
   "source": [
    "LAB \n",
    "\n",
    "Objectives:\n",
    "          improving the student's skills in operating with strings;\n",
    "          using strings to represent non-text data.\n",
    "          \n",
    "          \n",
    "Scenario:\n",
    "        You've surely seen a seven-segment display.\n",
    "        \n",
    "        It's a device (sometimes electronic, sometimes mechanical) designed to present one decimal digit using a subset of seven segments. If you still don't know what it is, refer to the following Wikipedia article.\n",
    "\n",
    "Your task is to write a program which is able to simulate the work of a seven-display device, although you're going to use single LEDs instead of segments.\n",
    "\n",
    "Each digit is constructed from 13 LEDs (some lit, some dark, of course) - that's how we imagine it:\n",
    "\n",
    " # ### ### # # ### ### ### ### ### ### \n",
    "  #   #   # # # #   #     # # # # # # # \n",
    "  # ### ### ### ### ###   # ### ### # # \n",
    "  # #     #   #   # # #   # # #   # # # \n",
    "  # ### ###   # ### ###   # ### ### ###\n",
    "\n",
    "Note: the number 8 shows all the LED lights on.\n",
    "\n",
    "Your code has to display any non-negative integer number entered by the user.\n",
    "\n",
    "Tip: using a list containing patterns of all ten digits may be very helpful.\n",
    "\n",
    "Test data\n",
    "Sample input:\n",
    "123\n",
    "\n",
    "Sample output:\n",
    "\n",
    "  # ### ### \n",
    "  #   #   # \n",
    "  # ### ### \n",
    "  # #     # \n",
    "  # ### ### "
   ]
  },
  {
   "cell_type": "code",
   "execution_count": 41,
   "id": "36495b97",
   "metadata": {},
   "outputs": [
    {
     "name": "stdout",
     "output_type": "stream",
     "text": [
      "#        \n",
      "              #\n",
      "              #\n",
      "              #\n",
      "              #\n"
     ]
    }
   ],
   "source": [
    "def led_light(string_number):\n",
    "    led = ['''#        \n",
    "              #\n",
    "              #\n",
    "              #\n",
    "              #''', '''#####\n",
    "                           #\n",
    "                        ####\n",
    "                        #\n",
    "                        ######''']\n",
    "    \n",
    "    for i in string_number:\n",
    "        print(led[int(i)])\n",
    "#led_light(\"01\")\n",
    "led_light(\"0\")"
   ]
  },
  {
   "cell_type": "code",
   "execution_count": null,
   "id": "486f33c3",
   "metadata": {},
   "outputs": [],
   "source": [
    "\n",
    "    "
   ]
  }
 ],
 "metadata": {
  "kernelspec": {
   "display_name": "Python 3 (ipykernel)",
   "language": "python",
   "name": "python3"
  },
  "language_info": {
   "codemirror_mode": {
    "name": "ipython",
    "version": 3
   },
   "file_extension": ".py",
   "mimetype": "text/x-python",
   "name": "python",
   "nbconvert_exporter": "python",
   "pygments_lexer": "ipython3",
   "version": "3.9.6"
  }
 },
 "nbformat": 4,
 "nbformat_minor": 5
}
