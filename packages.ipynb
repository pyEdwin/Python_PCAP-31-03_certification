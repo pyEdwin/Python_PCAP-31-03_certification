{
 "cells": [
  {
   "cell_type": "code",
   "execution_count": null,
   "id": "f33a2b6d",
   "metadata": {},
   "outputs": [],
   "source": [
    " #package: collection of modules"
   ]
  },
  {
   "cell_type": "code",
   "execution_count": null,
   "id": "6c08bf28",
   "metadata": {},
   "outputs": [],
   "source": [
    "# __name_ : variable, when runs directly from a file is set to __main__\n",
    "\n",
    "# When the file is imported , __name__ is the name of the file(module)\n",
    "\n",
    "# Used PIP(Package Installer) to install  packages.\n",
    "\n",
    "# Dependency is a phenomenon that appears every time you're going to use a piece of software that relies on other software."
   ]
  }
 ],
 "metadata": {
  "kernelspec": {
   "display_name": "Python 3 (ipykernel)",
   "language": "python",
   "name": "python3"
  },
  "language_info": {
   "codemirror_mode": {
    "name": "ipython",
    "version": 3
   },
   "file_extension": ".py",
   "mimetype": "text/x-python",
   "name": "python",
   "nbconvert_exporter": "python",
   "pygments_lexer": "ipython3",
   "version": "3.9.6"
  }
 },
 "nbformat": 4,
 "nbformat_minor": 5
}
